{
 "cells": [
  {
   "cell_type": "code",
   "execution_count": null,
   "metadata": {
    "vscode": {
     "languageId": "plaintext"
    }
   },
   "outputs": [],
   "source": []
  },
  {
   "cell_type": "code",
   "execution_count": null,
   "metadata": {},
   "outputs": [],
   "source": [
    "class Matrix:\n",
    "    "
   ]
  },
  {
   "cell_type": "code",
   "execution_count": null,
   "metadata": {},
   "outputs": [],
   "source": [
    "def stassen(A,B):\n",
    "    n=len(A)"
   ]
  },
  {
   "cell_type": "markdown",
   "metadata": {},
   "source": [
    "Learning\n",
    "for stress testing closestpair finding\n",
    "i used srand with differen seeds 0->10^6\n",
    "to find the smallest n to find error I ran a loop form 2->10^6\n",
    "if was z-=2,z<100;z++\n",
    "k=0;k<10^6;k++\n",
    "srand(k)\n",
    "z size vector with random elements\n",
    "run algo\n",
    "find mismaqtch with bruteforce\n"
   ]
  },
  {
   "cell_type": "code",
   "execution_count": null,
   "metadata": {},
   "outputs": [],
   "source": [
    "0 padding with induced if else\n"
   ]
  }
 ],
 "metadata": {
  "language_info": {
   "name": "python"
  }
 },
 "nbformat": 4,
 "nbformat_minor": 2
}
